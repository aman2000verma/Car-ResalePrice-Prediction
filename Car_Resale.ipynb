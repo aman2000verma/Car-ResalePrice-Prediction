{
 "cells": [
  {
   "cell_type": "markdown",
   "id": "82650752",
   "metadata": {},
   "source": [
    "# Indian Cars Resale Value Prediction "
   ]
  },
  {
   "cell_type": "markdown",
   "id": "e7a1c6a1",
   "metadata": {},
   "source": [
    "### Importing Data\n"
   ]
  },
  {
   "cell_type": "code",
   "execution_count": 1,
   "id": "3621fd19",
   "metadata": {},
   "outputs": [],
   "source": [
    "import pandas as pd\n",
    "import numpy as np\n",
    "import seaborn as sb\n",
    "import matplotlib.pyplot as plot\n",
    "import sklearn.linear_model as models\n",
    "import sklearn.metrics as metrics"
   ]
  },
  {
   "cell_type": "code",
   "execution_count": 2,
   "id": "26b07370",
   "metadata": {},
   "outputs": [],
   "source": [
    "#This data will be used to train the ML model.\n",
    "df = pd.read_csv('data.csv')"
   ]
  },
  {
   "cell_type": "markdown",
   "id": "747de9d0",
   "metadata": {},
   "source": [
    "### Data"
   ]
  },
  {
   "cell_type": "code",
   "execution_count": 3,
   "id": "35a7d3c2",
   "metadata": {},
   "outputs": [
    {
     "data": {
      "text/html": [
       "<div>\n",
       "<style scoped>\n",
       "    .dataframe tbody tr th:only-of-type {\n",
       "        vertical-align: middle;\n",
       "    }\n",
       "\n",
       "    .dataframe tbody tr th {\n",
       "        vertical-align: top;\n",
       "    }\n",
       "\n",
       "    .dataframe thead th {\n",
       "        text-align: right;\n",
       "    }\n",
       "</style>\n",
       "<table border=\"1\" class=\"dataframe\">\n",
       "  <thead>\n",
       "    <tr style=\"text-align: right;\">\n",
       "      <th></th>\n",
       "      <th>Unnamed: 0</th>\n",
       "      <th>Name</th>\n",
       "      <th>Location</th>\n",
       "      <th>Year</th>\n",
       "      <th>Kilometers_Driven</th>\n",
       "      <th>Fuel_Type</th>\n",
       "      <th>Transmission</th>\n",
       "      <th>Owner_Type</th>\n",
       "      <th>Mileage</th>\n",
       "      <th>Engine</th>\n",
       "      <th>Power</th>\n",
       "      <th>Seats</th>\n",
       "      <th>Price</th>\n",
       "    </tr>\n",
       "  </thead>\n",
       "  <tbody>\n",
       "    <tr>\n",
       "      <th>0</th>\n",
       "      <td>0</td>\n",
       "      <td>Maruti Wagon R LXI CNG</td>\n",
       "      <td>Mumbai</td>\n",
       "      <td>2010</td>\n",
       "      <td>72000</td>\n",
       "      <td>CNG</td>\n",
       "      <td>Manual</td>\n",
       "      <td>First</td>\n",
       "      <td>26.6 km/kg</td>\n",
       "      <td>998 CC</td>\n",
       "      <td>58.16 bhp</td>\n",
       "      <td>5.0</td>\n",
       "      <td>1.75</td>\n",
       "    </tr>\n",
       "    <tr>\n",
       "      <th>1</th>\n",
       "      <td>1</td>\n",
       "      <td>Hyundai Creta 1.6 CRDi SX Option</td>\n",
       "      <td>Pune</td>\n",
       "      <td>2015</td>\n",
       "      <td>41000</td>\n",
       "      <td>Diesel</td>\n",
       "      <td>Manual</td>\n",
       "      <td>First</td>\n",
       "      <td>19.67 kmpl</td>\n",
       "      <td>1582 CC</td>\n",
       "      <td>126.2 bhp</td>\n",
       "      <td>5.0</td>\n",
       "      <td>12.50</td>\n",
       "    </tr>\n",
       "    <tr>\n",
       "      <th>2</th>\n",
       "      <td>2</td>\n",
       "      <td>Honda Jazz V</td>\n",
       "      <td>Chennai</td>\n",
       "      <td>2011</td>\n",
       "      <td>46000</td>\n",
       "      <td>Petrol</td>\n",
       "      <td>Manual</td>\n",
       "      <td>First</td>\n",
       "      <td>18.2 kmpl</td>\n",
       "      <td>1199 CC</td>\n",
       "      <td>88.7 bhp</td>\n",
       "      <td>5.0</td>\n",
       "      <td>4.50</td>\n",
       "    </tr>\n",
       "    <tr>\n",
       "      <th>3</th>\n",
       "      <td>3</td>\n",
       "      <td>Maruti Ertiga VDI</td>\n",
       "      <td>Chennai</td>\n",
       "      <td>2012</td>\n",
       "      <td>87000</td>\n",
       "      <td>Diesel</td>\n",
       "      <td>Manual</td>\n",
       "      <td>First</td>\n",
       "      <td>20.77 kmpl</td>\n",
       "      <td>1248 CC</td>\n",
       "      <td>88.76 bhp</td>\n",
       "      <td>7.0</td>\n",
       "      <td>6.00</td>\n",
       "    </tr>\n",
       "    <tr>\n",
       "      <th>4</th>\n",
       "      <td>4</td>\n",
       "      <td>Audi A4 New 2.0 TDI Multitronic</td>\n",
       "      <td>Coimbatore</td>\n",
       "      <td>2013</td>\n",
       "      <td>40670</td>\n",
       "      <td>Diesel</td>\n",
       "      <td>Automatic</td>\n",
       "      <td>Second</td>\n",
       "      <td>15.2 kmpl</td>\n",
       "      <td>1968 CC</td>\n",
       "      <td>140.8 bhp</td>\n",
       "      <td>5.0</td>\n",
       "      <td>17.74</td>\n",
       "    </tr>\n",
       "  </tbody>\n",
       "</table>\n",
       "</div>"
      ],
      "text/plain": [
       "   Unnamed: 0                              Name    Location  Year  \\\n",
       "0           0            Maruti Wagon R LXI CNG      Mumbai  2010   \n",
       "1           1  Hyundai Creta 1.6 CRDi SX Option        Pune  2015   \n",
       "2           2                      Honda Jazz V     Chennai  2011   \n",
       "3           3                 Maruti Ertiga VDI     Chennai  2012   \n",
       "4           4   Audi A4 New 2.0 TDI Multitronic  Coimbatore  2013   \n",
       "\n",
       "   Kilometers_Driven Fuel_Type Transmission Owner_Type     Mileage   Engine  \\\n",
       "0              72000       CNG       Manual      First  26.6 km/kg   998 CC   \n",
       "1              41000    Diesel       Manual      First  19.67 kmpl  1582 CC   \n",
       "2              46000    Petrol       Manual      First   18.2 kmpl  1199 CC   \n",
       "3              87000    Diesel       Manual      First  20.77 kmpl  1248 CC   \n",
       "4              40670    Diesel    Automatic     Second   15.2 kmpl  1968 CC   \n",
       "\n",
       "       Power  Seats  Price  \n",
       "0  58.16 bhp    5.0   1.75  \n",
       "1  126.2 bhp    5.0  12.50  \n",
       "2   88.7 bhp    5.0   4.50  \n",
       "3  88.76 bhp    7.0   6.00  \n",
       "4  140.8 bhp    5.0  17.74  "
      ]
     },
     "execution_count": 3,
     "metadata": {},
     "output_type": "execute_result"
    }
   ],
   "source": [
    "df.head(5)"
   ]
  },
  {
   "cell_type": "code",
   "execution_count": 4,
   "id": "75bd25b8",
   "metadata": {},
   "outputs": [
    {
     "data": {
      "text/html": [
       "<div>\n",
       "<style scoped>\n",
       "    .dataframe tbody tr th:only-of-type {\n",
       "        vertical-align: middle;\n",
       "    }\n",
       "\n",
       "    .dataframe tbody tr th {\n",
       "        vertical-align: top;\n",
       "    }\n",
       "\n",
       "    .dataframe thead th {\n",
       "        text-align: right;\n",
       "    }\n",
       "</style>\n",
       "<table border=\"1\" class=\"dataframe\">\n",
       "  <thead>\n",
       "    <tr style=\"text-align: right;\">\n",
       "      <th></th>\n",
       "      <th>Unnamed: 0</th>\n",
       "      <th>Name</th>\n",
       "      <th>Location</th>\n",
       "      <th>Year</th>\n",
       "      <th>Kilometers_Driven</th>\n",
       "      <th>Fuel_Type</th>\n",
       "      <th>Transmission</th>\n",
       "      <th>Owner_Type</th>\n",
       "      <th>Mileage</th>\n",
       "      <th>Engine</th>\n",
       "      <th>Power</th>\n",
       "      <th>Seats</th>\n",
       "      <th>Price</th>\n",
       "    </tr>\n",
       "  </thead>\n",
       "  <tbody>\n",
       "    <tr>\n",
       "      <th>count</th>\n",
       "      <td>6019.000000</td>\n",
       "      <td>6019</td>\n",
       "      <td>6019</td>\n",
       "      <td>6019.000000</td>\n",
       "      <td>6.019000e+03</td>\n",
       "      <td>6019</td>\n",
       "      <td>6019</td>\n",
       "      <td>6019</td>\n",
       "      <td>6017</td>\n",
       "      <td>5983</td>\n",
       "      <td>5983</td>\n",
       "      <td>5977.000000</td>\n",
       "      <td>6019.000000</td>\n",
       "    </tr>\n",
       "    <tr>\n",
       "      <th>unique</th>\n",
       "      <td>NaN</td>\n",
       "      <td>1876</td>\n",
       "      <td>11</td>\n",
       "      <td>NaN</td>\n",
       "      <td>NaN</td>\n",
       "      <td>5</td>\n",
       "      <td>2</td>\n",
       "      <td>4</td>\n",
       "      <td>442</td>\n",
       "      <td>146</td>\n",
       "      <td>372</td>\n",
       "      <td>NaN</td>\n",
       "      <td>NaN</td>\n",
       "    </tr>\n",
       "    <tr>\n",
       "      <th>top</th>\n",
       "      <td>NaN</td>\n",
       "      <td>Mahindra XUV500 W8 2WD</td>\n",
       "      <td>Mumbai</td>\n",
       "      <td>NaN</td>\n",
       "      <td>NaN</td>\n",
       "      <td>Diesel</td>\n",
       "      <td>Manual</td>\n",
       "      <td>First</td>\n",
       "      <td>18.9 kmpl</td>\n",
       "      <td>1197 CC</td>\n",
       "      <td>74 bhp</td>\n",
       "      <td>NaN</td>\n",
       "      <td>NaN</td>\n",
       "    </tr>\n",
       "    <tr>\n",
       "      <th>freq</th>\n",
       "      <td>NaN</td>\n",
       "      <td>49</td>\n",
       "      <td>790</td>\n",
       "      <td>NaN</td>\n",
       "      <td>NaN</td>\n",
       "      <td>3205</td>\n",
       "      <td>4299</td>\n",
       "      <td>4929</td>\n",
       "      <td>172</td>\n",
       "      <td>606</td>\n",
       "      <td>235</td>\n",
       "      <td>NaN</td>\n",
       "      <td>NaN</td>\n",
       "    </tr>\n",
       "    <tr>\n",
       "      <th>mean</th>\n",
       "      <td>3009.000000</td>\n",
       "      <td>NaN</td>\n",
       "      <td>NaN</td>\n",
       "      <td>2013.358199</td>\n",
       "      <td>5.873838e+04</td>\n",
       "      <td>NaN</td>\n",
       "      <td>NaN</td>\n",
       "      <td>NaN</td>\n",
       "      <td>NaN</td>\n",
       "      <td>NaN</td>\n",
       "      <td>NaN</td>\n",
       "      <td>5.278735</td>\n",
       "      <td>9.479468</td>\n",
       "    </tr>\n",
       "    <tr>\n",
       "      <th>std</th>\n",
       "      <td>1737.679967</td>\n",
       "      <td>NaN</td>\n",
       "      <td>NaN</td>\n",
       "      <td>3.269742</td>\n",
       "      <td>9.126884e+04</td>\n",
       "      <td>NaN</td>\n",
       "      <td>NaN</td>\n",
       "      <td>NaN</td>\n",
       "      <td>NaN</td>\n",
       "      <td>NaN</td>\n",
       "      <td>NaN</td>\n",
       "      <td>0.808840</td>\n",
       "      <td>11.187917</td>\n",
       "    </tr>\n",
       "    <tr>\n",
       "      <th>min</th>\n",
       "      <td>0.000000</td>\n",
       "      <td>NaN</td>\n",
       "      <td>NaN</td>\n",
       "      <td>1998.000000</td>\n",
       "      <td>1.710000e+02</td>\n",
       "      <td>NaN</td>\n",
       "      <td>NaN</td>\n",
       "      <td>NaN</td>\n",
       "      <td>NaN</td>\n",
       "      <td>NaN</td>\n",
       "      <td>NaN</td>\n",
       "      <td>0.000000</td>\n",
       "      <td>0.440000</td>\n",
       "    </tr>\n",
       "    <tr>\n",
       "      <th>25%</th>\n",
       "      <td>1504.500000</td>\n",
       "      <td>NaN</td>\n",
       "      <td>NaN</td>\n",
       "      <td>2011.000000</td>\n",
       "      <td>3.400000e+04</td>\n",
       "      <td>NaN</td>\n",
       "      <td>NaN</td>\n",
       "      <td>NaN</td>\n",
       "      <td>NaN</td>\n",
       "      <td>NaN</td>\n",
       "      <td>NaN</td>\n",
       "      <td>5.000000</td>\n",
       "      <td>3.500000</td>\n",
       "    </tr>\n",
       "    <tr>\n",
       "      <th>50%</th>\n",
       "      <td>3009.000000</td>\n",
       "      <td>NaN</td>\n",
       "      <td>NaN</td>\n",
       "      <td>2014.000000</td>\n",
       "      <td>5.300000e+04</td>\n",
       "      <td>NaN</td>\n",
       "      <td>NaN</td>\n",
       "      <td>NaN</td>\n",
       "      <td>NaN</td>\n",
       "      <td>NaN</td>\n",
       "      <td>NaN</td>\n",
       "      <td>5.000000</td>\n",
       "      <td>5.640000</td>\n",
       "    </tr>\n",
       "    <tr>\n",
       "      <th>75%</th>\n",
       "      <td>4513.500000</td>\n",
       "      <td>NaN</td>\n",
       "      <td>NaN</td>\n",
       "      <td>2016.000000</td>\n",
       "      <td>7.300000e+04</td>\n",
       "      <td>NaN</td>\n",
       "      <td>NaN</td>\n",
       "      <td>NaN</td>\n",
       "      <td>NaN</td>\n",
       "      <td>NaN</td>\n",
       "      <td>NaN</td>\n",
       "      <td>5.000000</td>\n",
       "      <td>9.950000</td>\n",
       "    </tr>\n",
       "    <tr>\n",
       "      <th>max</th>\n",
       "      <td>6018.000000</td>\n",
       "      <td>NaN</td>\n",
       "      <td>NaN</td>\n",
       "      <td>2019.000000</td>\n",
       "      <td>6.500000e+06</td>\n",
       "      <td>NaN</td>\n",
       "      <td>NaN</td>\n",
       "      <td>NaN</td>\n",
       "      <td>NaN</td>\n",
       "      <td>NaN</td>\n",
       "      <td>NaN</td>\n",
       "      <td>10.000000</td>\n",
       "      <td>160.000000</td>\n",
       "    </tr>\n",
       "  </tbody>\n",
       "</table>\n",
       "</div>"
      ],
      "text/plain": [
       "         Unnamed: 0                    Name Location         Year  \\\n",
       "count   6019.000000                    6019     6019  6019.000000   \n",
       "unique          NaN                    1876       11          NaN   \n",
       "top             NaN  Mahindra XUV500 W8 2WD   Mumbai          NaN   \n",
       "freq            NaN                      49      790          NaN   \n",
       "mean    3009.000000                     NaN      NaN  2013.358199   \n",
       "std     1737.679967                     NaN      NaN     3.269742   \n",
       "min        0.000000                     NaN      NaN  1998.000000   \n",
       "25%     1504.500000                     NaN      NaN  2011.000000   \n",
       "50%     3009.000000                     NaN      NaN  2014.000000   \n",
       "75%     4513.500000                     NaN      NaN  2016.000000   \n",
       "max     6018.000000                     NaN      NaN  2019.000000   \n",
       "\n",
       "        Kilometers_Driven Fuel_Type Transmission Owner_Type    Mileage  \\\n",
       "count        6.019000e+03      6019         6019       6019       6017   \n",
       "unique                NaN         5            2          4        442   \n",
       "top                   NaN    Diesel       Manual      First  18.9 kmpl   \n",
       "freq                  NaN      3205         4299       4929        172   \n",
       "mean         5.873838e+04       NaN          NaN        NaN        NaN   \n",
       "std          9.126884e+04       NaN          NaN        NaN        NaN   \n",
       "min          1.710000e+02       NaN          NaN        NaN        NaN   \n",
       "25%          3.400000e+04       NaN          NaN        NaN        NaN   \n",
       "50%          5.300000e+04       NaN          NaN        NaN        NaN   \n",
       "75%          7.300000e+04       NaN          NaN        NaN        NaN   \n",
       "max          6.500000e+06       NaN          NaN        NaN        NaN   \n",
       "\n",
       "         Engine   Power        Seats        Price  \n",
       "count      5983    5983  5977.000000  6019.000000  \n",
       "unique      146     372          NaN          NaN  \n",
       "top     1197 CC  74 bhp          NaN          NaN  \n",
       "freq        606     235          NaN          NaN  \n",
       "mean        NaN     NaN     5.278735     9.479468  \n",
       "std         NaN     NaN     0.808840    11.187917  \n",
       "min         NaN     NaN     0.000000     0.440000  \n",
       "25%         NaN     NaN     5.000000     3.500000  \n",
       "50%         NaN     NaN     5.000000     5.640000  \n",
       "75%         NaN     NaN     5.000000     9.950000  \n",
       "max         NaN     NaN    10.000000   160.000000  "
      ]
     },
     "execution_count": 4,
     "metadata": {},
     "output_type": "execute_result"
    }
   ],
   "source": [
    "df.describe(include='all')"
   ]
  },
  {
   "cell_type": "code",
   "execution_count": 5,
   "id": "eb48348f",
   "metadata": {},
   "outputs": [
    {
     "data": {
      "text/plain": [
       "Unnamed: 0             int64\n",
       "Name                  object\n",
       "Location              object\n",
       "Year                   int64\n",
       "Kilometers_Driven      int64\n",
       "Fuel_Type             object\n",
       "Transmission          object\n",
       "Owner_Type            object\n",
       "Mileage               object\n",
       "Engine                object\n",
       "Power                 object\n",
       "Seats                float64\n",
       "Price                float64\n",
       "dtype: object"
      ]
     },
     "execution_count": 5,
     "metadata": {},
     "output_type": "execute_result"
    }
   ],
   "source": [
    "df.dtypes"
   ]
  },
  {
   "cell_type": "markdown",
   "id": "f7a1fbbf",
   "metadata": {},
   "source": [
    "### Data Cleaning & Pre-Processing"
   ]
  },
  {
   "cell_type": "markdown",
   "id": "bb2e90a2",
   "metadata": {},
   "source": [
    "Cleaning Data, Handling null values, uncertainty in data and missing values"
   ]
  },
  {
   "cell_type": "code",
   "execution_count": 6,
   "id": "5762b9c2",
   "metadata": {},
   "outputs": [],
   "source": [
    "#From above description, there are around 20 rows with missing data, so removing all those rows from data frame.\n",
    "df.dropna(inplace=True, axis=0)\n",
    "df.drop('Unnamed: 0', axis=1, inplace =True)"
   ]
  },
  {
   "cell_type": "markdown",
   "id": "7cd9014f",
   "metadata": {},
   "source": [
    "We need to change the data types of following attributes:\n",
    "\n",
    "1. Mileage - float64 (contains float values followed by kmpl or km/kg)\n",
    "2. Engine - int64 (contains integer values followed by cc or CC)\n",
    "3. Power - float64 (contains float values followed by bhp)"
   ]
  },
  {
   "cell_type": "markdown",
   "id": "2913601c",
   "metadata": {},
   "source": [
    "Since there are some extra characters in the field (like cc, bhp), we cannot directly change the data type unless we remove those characters and since there are not many rows we can iterate over each row and replace those unnecessary characters"
   ]
  },
  {
   "cell_type": "code",
   "execution_count": 7,
   "id": "ee2ee432",
   "metadata": {},
   "outputs": [],
   "source": [
    "mil_list = []\n",
    "for mileage in df['Mileage']:\n",
    "    updated = float(mileage.rstrip('kmpl/kg '))\n",
    "    mil_list.append(updated)"
   ]
  },
  {
   "cell_type": "code",
   "execution_count": 8,
   "id": "ec5c456a",
   "metadata": {},
   "outputs": [],
   "source": [
    "df = df.drop(columns=['Mileage'])"
   ]
  },
  {
   "cell_type": "code",
   "execution_count": 9,
   "id": "2ecbd2ab",
   "metadata": {},
   "outputs": [],
   "source": [
    "df['Mileage'] = mil_list"
   ]
  },
  {
   "cell_type": "code",
   "execution_count": 10,
   "id": "b60d22a7",
   "metadata": {},
   "outputs": [],
   "source": [
    "eng_list = []\n",
    "for engine in df['Engine']:\n",
    "    updated = int(engine.rstrip('ccCC '))\n",
    "    eng_list.append(updated)"
   ]
  },
  {
   "cell_type": "code",
   "execution_count": 11,
   "id": "7131a819",
   "metadata": {},
   "outputs": [],
   "source": [
    "df = df.drop(columns=['Engine'])"
   ]
  },
  {
   "cell_type": "code",
   "execution_count": 12,
   "id": "f76ad36f",
   "metadata": {},
   "outputs": [],
   "source": [
    "df['Engine'] = eng_list"
   ]
  },
  {
   "cell_type": "code",
   "execution_count": 13,
   "id": "36b1038a",
   "metadata": {},
   "outputs": [],
   "source": [
    "power_list = []\n",
    "\n",
    "for power in df['Power']:\n",
    "    #Power column also contains null values (Example: null bhp)\n",
    "    updated = power.rstrip('bhp ')\n",
    "    if(updated==\"null\"):\n",
    "        updated = float('74') # Power of the most common vehicle in the data set\n",
    "    updated = float(updated)\n",
    "    power_list.append(updated)"
   ]
  },
  {
   "cell_type": "code",
   "execution_count": 14,
   "id": "0cc321c1",
   "metadata": {},
   "outputs": [],
   "source": [
    "df = df.drop(columns=['Power'])"
   ]
  },
  {
   "cell_type": "code",
   "execution_count": 15,
   "id": "2557dca3",
   "metadata": {},
   "outputs": [],
   "source": [
    "df['Power'] = power_list"
   ]
  },
  {
   "cell_type": "code",
   "execution_count": 16,
   "id": "8f1a2253",
   "metadata": {},
   "outputs": [
    {
     "data": {
      "text/plain": [
       "Name                  object\n",
       "Location              object\n",
       "Year                   int64\n",
       "Kilometers_Driven      int64\n",
       "Fuel_Type             object\n",
       "Transmission          object\n",
       "Owner_Type            object\n",
       "Seats                float64\n",
       "Price                float64\n",
       "Mileage              float64\n",
       "Engine                 int64\n",
       "Power                float64\n",
       "dtype: object"
      ]
     },
     "execution_count": 16,
     "metadata": {},
     "output_type": "execute_result"
    }
   ],
   "source": [
    "df.dtypes"
   ]
  },
  {
   "cell_type": "markdown",
   "id": "79babe2a",
   "metadata": {},
   "source": [
    "### Data Visualization"
   ]
  },
  {
   "cell_type": "code",
   "execution_count": 17,
   "id": "904eaf8d",
   "metadata": {},
   "outputs": [
    {
     "data": {
      "text/plain": [
       "<AxesSubplot:xlabel='Engine', ylabel='Price'>"
      ]
     },
     "execution_count": 17,
     "metadata": {},
     "output_type": "execute_result"
    },
    {
     "data": {
      "image/png": "[encoded data removed]",
      "text/plain": [
       "<Figure size 432x288 with 1 Axes>"
      ]
     },
     "metadata": {
      "needs_background": "light"
     },
     "output_type": "display_data"
    }
   ],
   "source": [
    "sb.regplot(y='Price', x='Engine', data=df)"
   ]
  },
  {
   "cell_type": "code",
   "execution_count": 18,
   "id": "00cc97e7",
   "metadata": {},
   "outputs": [
    {
     "data": {
      "text/plain": [
       "<AxesSubplot:xlabel='Power', ylabel='Price'>"
      ]
     },
     "execution_count": 18,
     "metadata": {},
     "output_type": "execute_result"
    },
    {
     "data": {
      "image/png": "[encoded data removed]",
      "text/plain": [
       "<Figure size 432x288 with 1 Axes>"
      ]
     },
     "metadata": {
      "needs_background": "light"
     },
     "output_type": "display_data"
    }
   ],
   "source": [
    "sb.regplot(y='Price', x='Power', data=df)"
   ]
  },
  {
   "cell_type": "code",
   "execution_count": 19,
   "id": "dcce65e8",
   "metadata": {},
   "outputs": [
    {
     "data": {
      "text/plain": [
       "<AxesSubplot:xlabel='Year', ylabel='Price'>"
      ]
     },
     "execution_count": 19,
     "metadata": {},
     "output_type": "execute_result"
    },
    {
     "data": {
      "image/png": "[encoded data removed]",
      "text/plain": [
       "<Figure size 432x288 with 1 Axes>"
      ]
     },
     "metadata": {
      "needs_background": "light"
     },
     "output_type": "display_data"
    }
   ],
   "source": [
    "sb.regplot(y='Price', x='Year', data=df)"
   ]
  },
  {
   "cell_type": "code",
   "execution_count": 20,
   "id": "2b9bfde9",
   "metadata": {
    "scrolled": true
   },
   "outputs": [
    {
     "data": {
      "text/plain": [
       "<AxesSubplot:xlabel='Kilometers_Driven', ylabel='Price'>"
      ]
     },
     "execution_count": 20,
     "metadata": {},
     "output_type": "execute_result"
    },
    {
     "data": {
      "image/png": "[encoded data removed]",
      "text/plain": [
       "<Figure size 432x288 with 1 Axes>"
      ]
     },
     "metadata": {
      "needs_background": "light"
     },
     "output_type": "display_data"
    }
   ],
   "source": [
    "sb.regplot(y='Price', x='Kilometers_Driven', data=df)"
   ]
  },
  {
   "cell_type": "code",
   "execution_count": 21,
   "id": "b4ed252e",
   "metadata": {},
   "outputs": [
    {
     "data": {
      "text/html": [
       "<div>\n",
       "<style scoped>\n",
       "    .dataframe tbody tr th:only-of-type {\n",
       "        vertical-align: middle;\n",
       "    }\n",
       "\n",
       "    .dataframe tbody tr th {\n",
       "        vertical-align: top;\n",
       "    }\n",
       "\n",
       "    .dataframe thead th {\n",
       "        text-align: right;\n",
       "    }\n",
       "</style>\n",
       "<table border=\"1\" class=\"dataframe\">\n",
       "  <thead>\n",
       "    <tr style=\"text-align: right;\">\n",
       "      <th></th>\n",
       "      <th>Year</th>\n",
       "      <th>Kilometers_Driven</th>\n",
       "      <th>Seats</th>\n",
       "      <th>Price</th>\n",
       "      <th>Mileage</th>\n",
       "      <th>Engine</th>\n",
       "      <th>Power</th>\n",
       "    </tr>\n",
       "  </thead>\n",
       "  <tbody>\n",
       "    <tr>\n",
       "      <th>Year</th>\n",
       "      <td>1.000000</td>\n",
       "      <td>-0.172663</td>\n",
       "      <td>0.012338</td>\n",
       "      <td>0.305800</td>\n",
       "      <td>0.314417</td>\n",
       "      <td>-0.052538</td>\n",
       "      <td>0.034117</td>\n",
       "    </tr>\n",
       "    <tr>\n",
       "      <th>Kilometers_Driven</th>\n",
       "      <td>-0.172663</td>\n",
       "      <td>1.000000</td>\n",
       "      <td>0.083101</td>\n",
       "      <td>-0.011263</td>\n",
       "      <td>-0.064991</td>\n",
       "      <td>0.090832</td>\n",
       "      <td>0.030462</td>\n",
       "    </tr>\n",
       "    <tr>\n",
       "      <th>Seats</th>\n",
       "      <td>0.012338</td>\n",
       "      <td>0.083101</td>\n",
       "      <td>1.000000</td>\n",
       "      <td>0.052262</td>\n",
       "      <td>-0.308226</td>\n",
       "      <td>0.393435</td>\n",
       "      <td>0.103993</td>\n",
       "    </tr>\n",
       "    <tr>\n",
       "      <th>Price</th>\n",
       "      <td>0.305800</td>\n",
       "      <td>-0.011263</td>\n",
       "      <td>0.052262</td>\n",
       "      <td>1.000000</td>\n",
       "      <td>-0.313877</td>\n",
       "      <td>0.659117</td>\n",
       "      <td>0.772208</td>\n",
       "    </tr>\n",
       "    <tr>\n",
       "      <th>Mileage</th>\n",
       "      <td>0.314417</td>\n",
       "      <td>-0.064991</td>\n",
       "      <td>-0.308226</td>\n",
       "      <td>-0.313877</td>\n",
       "      <td>1.000000</td>\n",
       "      <td>-0.598638</td>\n",
       "      <td>-0.497725</td>\n",
       "    </tr>\n",
       "    <tr>\n",
       "      <th>Engine</th>\n",
       "      <td>-0.052538</td>\n",
       "      <td>0.090832</td>\n",
       "      <td>0.393435</td>\n",
       "      <td>0.659117</td>\n",
       "      <td>-0.598638</td>\n",
       "      <td>1.000000</td>\n",
       "      <td>0.860708</td>\n",
       "    </tr>\n",
       "    <tr>\n",
       "      <th>Power</th>\n",
       "      <td>0.034117</td>\n",
       "      <td>0.030462</td>\n",
       "      <td>0.103993</td>\n",
       "      <td>0.772208</td>\n",
       "      <td>-0.497725</td>\n",
       "      <td>0.860708</td>\n",
       "      <td>1.000000</td>\n",
       "    </tr>\n",
       "  </tbody>\n",
       "</table>\n",
       "</div>"
      ],
      "text/plain": [
       "                       Year  Kilometers_Driven     Seats     Price   Mileage  \\\n",
       "Year               1.000000          -0.172663  0.012338  0.305800  0.314417   \n",
       "Kilometers_Driven -0.172663           1.000000  0.083101 -0.011263 -0.064991   \n",
       "Seats              0.012338           0.083101  1.000000  0.052262 -0.308226   \n",
       "Price              0.305800          -0.011263  0.052262  1.000000 -0.313877   \n",
       "Mileage            0.314417          -0.064991 -0.308226 -0.313877  1.000000   \n",
       "Engine            -0.052538           0.090832  0.393435  0.659117 -0.598638   \n",
       "Power              0.034117           0.030462  0.103993  0.772208 -0.497725   \n",
       "\n",
       "                     Engine     Power  \n",
       "Year              -0.052538  0.034117  \n",
       "Kilometers_Driven  0.090832  0.030462  \n",
       "Seats              0.393435  0.103993  \n",
       "Price              0.659117  0.772208  \n",
       "Mileage           -0.598638 -0.497725  \n",
       "Engine             1.000000  0.860708  \n",
       "Power              0.860708  1.000000  "
      ]
     },
     "execution_count": 21,
     "metadata": {},
     "output_type": "execute_result"
    }
   ],
   "source": [
    "corr = df.corr(method='pearson')\n",
    "corr"
   ]
  },
  {
   "cell_type": "code",
   "execution_count": 22,
   "id": "9e7364f2",
   "metadata": {},
   "outputs": [
    {
     "data": {
      "text/plain": [
       "<AxesSubplot:>"
      ]
     },
     "execution_count": 22,
     "metadata": {},
     "output_type": "execute_result"
    },
    {
     "data": {
      "image/png": "[encoded data removed]",
      "text/plain": [
       "<Figure size 432x288 with 2 Axes>"
      ]
     },
     "metadata": {
      "needs_background": "light"
     },
     "output_type": "display_data"
    }
   ],
   "source": [
    "sb.heatmap(data=corr, linewidths=1.5, cmap=\"YlGnBu\")"
   ]
  },
  {
   "cell_type": "markdown",
   "id": "ff3965c2",
   "metadata": {},
   "source": [
    "Strong Postive Corrleation between:\n",
    "1. Power & Price\n",
    "2. Engine & Price\n",
    "3. Year & Price\n",
    "\n",
    "Strong Negative Correlation between:\n",
    "1. Mileage & Price"
   ]
  },
  {
   "cell_type": "markdown",
   "id": "a2c2ac19",
   "metadata": {},
   "source": [
    "### Data Normalization\n",
    "Columns containing higher values are more likely to influence the result during analysis. For example: Mileage is in double digits and Engine capacity is in four digits so Engine is more likely to influence the model. So, we need to normalize the numeric values to have an unbiased influence on the model."
   ]
  },
  {
   "cell_type": "code",
   "execution_count": 23,
   "id": "f1914fe5",
   "metadata": {},
   "outputs": [],
   "source": [
    "#Normalizing using Z-Score method\n",
    "df['Year'] = (df['Year']-df['Year'].mean())/df['Year'].std()\n",
    "df['Kilometers_Driven'] = (df['Kilometers_Driven']-df['Kilometers_Driven'].mean())/df['Kilometers_Driven'].std()\n",
    "df['Seats'] = (df['Seats']-df['Seats'].mean())/df['Seats'].std()\n",
    "df['Mileage'] = (df['Mileage']-df['Mileage'].mean())/df['Mileage'].std()\n",
    "df['Power'] = (df['Power']-df['Power'].mean())/df['Power'].std()"
   ]
  },
  {
   "cell_type": "markdown",
   "id": "8a50e73a",
   "metadata": {},
   "source": [
    "Converting Categorical Values into Numeric Values"
   ]
  },
  {
   "cell_type": "code",
   "execution_count": 24,
   "id": "f7f36b6c",
   "metadata": {},
   "outputs": [],
   "source": [
    "fuel_type = pd.get_dummies(df['Fuel_Type']).astype('int64')\n",
    "owner_type = pd.get_dummies(df['Owner_Type']).astype('int64')\n",
    "transmission = pd.get_dummies(df['Transmission']).astype('int64')\n",
    "df = df.join(fuel_type).join(owner_type).join(transmission)"
   ]
  },
  {
   "cell_type": "code",
   "execution_count": 25,
   "id": "43ef331e",
   "metadata": {},
   "outputs": [],
   "source": [
    "df.drop('Fuel_Type', axis=1, inplace =True)\n",
    "df.drop('Owner_Type', axis=1, inplace =True)\n",
    "df.drop('Transmission', axis=1, inplace =True)"
   ]
  },
  {
   "cell_type": "markdown",
   "id": "b64777a9",
   "metadata": {},
   "source": [
    "### Now our data is ready for analysis"
   ]
  },
  {
   "cell_type": "code",
   "execution_count": 26,
   "id": "f0329db9",
   "metadata": {},
   "outputs": [
    {
     "data": {
      "text/html": [
       "<div>\n",
       "<style scoped>\n",
       "    .dataframe tbody tr th:only-of-type {\n",
       "        vertical-align: middle;\n",
       "    }\n",
       "\n",
       "    .dataframe tbody tr th {\n",
       "        vertical-align: top;\n",
       "    }\n",
       "\n",
       "    .dataframe thead th {\n",
       "        text-align: right;\n",
       "    }\n",
       "</style>\n",
       "<table border=\"1\" class=\"dataframe\">\n",
       "  <thead>\n",
       "    <tr style=\"text-align: right;\">\n",
       "      <th></th>\n",
       "      <th>Year</th>\n",
       "      <th>Kilometers_Driven</th>\n",
       "      <th>Seats</th>\n",
       "      <th>Price</th>\n",
       "      <th>Mileage</th>\n",
       "      <th>Engine</th>\n",
       "      <th>Power</th>\n",
       "      <th>CNG</th>\n",
       "      <th>Diesel</th>\n",
       "      <th>LPG</th>\n",
       "      <th>Petrol</th>\n",
       "      <th>First</th>\n",
       "      <th>Fourth &amp; Above</th>\n",
       "      <th>Second</th>\n",
       "      <th>Third</th>\n",
       "      <th>Automatic</th>\n",
       "      <th>Manual</th>\n",
       "    </tr>\n",
       "  </thead>\n",
       "  <tbody>\n",
       "    <tr>\n",
       "      <th>count</th>\n",
       "      <td>5.975000e+03</td>\n",
       "      <td>5.975000e+03</td>\n",
       "      <td>5.975000e+03</td>\n",
       "      <td>5975.000000</td>\n",
       "      <td>5.975000e+03</td>\n",
       "      <td>5975.000000</td>\n",
       "      <td>5.975000e+03</td>\n",
       "      <td>5975.000000</td>\n",
       "      <td>5975.000000</td>\n",
       "      <td>5975.000000</td>\n",
       "      <td>5975.000000</td>\n",
       "      <td>5975.000000</td>\n",
       "      <td>5975.000000</td>\n",
       "      <td>5975.000000</td>\n",
       "      <td>5975.000000</td>\n",
       "      <td>5975.000000</td>\n",
       "      <td>5975.000000</td>\n",
       "    </tr>\n",
       "    <tr>\n",
       "      <th>mean</th>\n",
       "      <td>9.892301e-15</td>\n",
       "      <td>-1.902709e-17</td>\n",
       "      <td>5.184881e-16</td>\n",
       "      <td>9.501647</td>\n",
       "      <td>-1.843249e-16</td>\n",
       "      <td>1621.606695</td>\n",
       "      <td>-4.043256e-17</td>\n",
       "      <td>0.009372</td>\n",
       "      <td>0.534728</td>\n",
       "      <td>0.001674</td>\n",
       "      <td>0.454226</td>\n",
       "      <td>0.820586</td>\n",
       "      <td>0.001339</td>\n",
       "      <td>0.159498</td>\n",
       "      <td>0.018577</td>\n",
       "      <td>0.286025</td>\n",
       "      <td>0.713975</td>\n",
       "    </tr>\n",
       "    <tr>\n",
       "      <th>std</th>\n",
       "      <td>1.000000e+00</td>\n",
       "      <td>1.000000e+00</td>\n",
       "      <td>1.000000e+00</td>\n",
       "      <td>11.205736</td>\n",
       "      <td>1.000000e+00</td>\n",
       "      <td>601.036987</td>\n",
       "      <td>1.000000e+00</td>\n",
       "      <td>0.096364</td>\n",
       "      <td>0.498834</td>\n",
       "      <td>0.040879</td>\n",
       "      <td>0.497942</td>\n",
       "      <td>0.383731</td>\n",
       "      <td>0.036570</td>\n",
       "      <td>0.366170</td>\n",
       "      <td>0.135038</td>\n",
       "      <td>0.451939</td>\n",
       "      <td>0.451939</td>\n",
       "    </tr>\n",
       "    <tr>\n",
       "      <th>min</th>\n",
       "      <td>-4.738421e+00</td>\n",
       "      <td>-6.389719e-01</td>\n",
       "      <td>-6.525460e+00</td>\n",
       "      <td>0.440000</td>\n",
       "      <td>-4.020391e+00</td>\n",
       "      <td>624.000000</td>\n",
       "      <td>-1.461061e+00</td>\n",
       "      <td>0.000000</td>\n",
       "      <td>0.000000</td>\n",
       "      <td>0.000000</td>\n",
       "      <td>0.000000</td>\n",
       "      <td>0.000000</td>\n",
       "      <td>0.000000</td>\n",
       "      <td>0.000000</td>\n",
       "      <td>0.000000</td>\n",
       "      <td>0.000000</td>\n",
       "      <td>0.000000</td>\n",
       "    </tr>\n",
       "    <tr>\n",
       "      <th>25%</th>\n",
       "      <td>-4.270640e-01</td>\n",
       "      <td>-2.704971e-01</td>\n",
       "      <td>-3.446757e-01</td>\n",
       "      <td>3.500000</td>\n",
       "      <td>-6.588985e-01</td>\n",
       "      <td>1198.000000</td>\n",
       "      <td>-7.193474e-01</td>\n",
       "      <td>0.000000</td>\n",
       "      <td>0.000000</td>\n",
       "      <td>0.000000</td>\n",
       "      <td>0.000000</td>\n",
       "      <td>1.000000</td>\n",
       "      <td>0.000000</td>\n",
       "      <td>0.000000</td>\n",
       "      <td>0.000000</td>\n",
       "      <td>0.000000</td>\n",
       "      <td>0.000000</td>\n",
       "    </tr>\n",
       "    <tr>\n",
       "      <th>50%</th>\n",
       "      <td>1.888441e-01</td>\n",
       "      <td>-6.197474e-02</td>\n",
       "      <td>-3.446757e-01</td>\n",
       "      <td>5.650000</td>\n",
       "      <td>-4.291992e-03</td>\n",
       "      <td>1493.000000</td>\n",
       "      <td>-3.708536e-01</td>\n",
       "      <td>0.000000</td>\n",
       "      <td>1.000000</td>\n",
       "      <td>0.000000</td>\n",
       "      <td>0.000000</td>\n",
       "      <td>1.000000</td>\n",
       "      <td>0.000000</td>\n",
       "      <td>0.000000</td>\n",
       "      <td>0.000000</td>\n",
       "      <td>0.000000</td>\n",
       "      <td>1.000000</td>\n",
       "    </tr>\n",
       "    <tr>\n",
       "      <th>75%</th>\n",
       "      <td>8.047522e-01</td>\n",
       "      <td>1.564648e-01</td>\n",
       "      <td>-3.446757e-01</td>\n",
       "      <td>9.950000</td>\n",
       "      <td>6.458915e-01</td>\n",
       "      <td>1984.000000</td>\n",
       "      <td>4.752222e-01</td>\n",
       "      <td>0.000000</td>\n",
       "      <td>1.000000</td>\n",
       "      <td>0.000000</td>\n",
       "      <td>1.000000</td>\n",
       "      <td>1.000000</td>\n",
       "      <td>0.000000</td>\n",
       "      <td>0.000000</td>\n",
       "      <td>0.000000</td>\n",
       "      <td>1.000000</td>\n",
       "      <td>1.000000</td>\n",
       "    </tr>\n",
       "    <tr>\n",
       "      <th>max</th>\n",
       "      <td>1.728614e+00</td>\n",
       "      <td>7.035201e+01</td>\n",
       "      <td>5.836108e+00</td>\n",
       "      <td>160.000000</td>\n",
       "      <td>3.397008e+00</td>\n",
       "      <td>5998.000000</td>\n",
       "      <td>8.337763e+00</td>\n",
       "      <td>1.000000</td>\n",
       "      <td>1.000000</td>\n",
       "      <td>1.000000</td>\n",
       "      <td>1.000000</td>\n",
       "      <td>1.000000</td>\n",
       "      <td>1.000000</td>\n",
       "      <td>1.000000</td>\n",
       "      <td>1.000000</td>\n",
       "      <td>1.000000</td>\n",
       "      <td>1.000000</td>\n",
       "    </tr>\n",
       "  </tbody>\n",
       "</table>\n",
       "</div>"
      ],
      "text/plain": [
       "               Year  Kilometers_Driven         Seats        Price  \\\n",
       "count  5.975000e+03       5.975000e+03  5.975000e+03  5975.000000   \n",
       "mean   9.892301e-15      -1.902709e-17  5.184881e-16     9.501647   \n",
       "std    1.000000e+00       1.000000e+00  1.000000e+00    11.205736   \n",
       "min   -4.738421e+00      -6.389719e-01 -6.525460e+00     0.440000   \n",
       "25%   -4.270640e-01      -2.704971e-01 -3.446757e-01     3.500000   \n",
       "50%    1.888441e-01      -6.197474e-02 -3.446757e-01     5.650000   \n",
       "75%    8.047522e-01       1.564648e-01 -3.446757e-01     9.950000   \n",
       "max    1.728614e+00       7.035201e+01  5.836108e+00   160.000000   \n",
       "\n",
       "            Mileage       Engine         Power          CNG       Diesel  \\\n",
       "count  5.975000e+03  5975.000000  5.975000e+03  5975.000000  5975.000000   \n",
       "mean  -1.843249e-16  1621.606695 -4.043256e-17     0.009372     0.534728   \n",
       "std    1.000000e+00   601.036987  1.000000e+00     0.096364     0.498834   \n",
       "min   -4.020391e+00   624.000000 -1.461061e+00     0.000000     0.000000   \n",
       "25%   -6.588985e-01  1198.000000 -7.193474e-01     0.000000     0.000000   \n",
       "50%   -4.291992e-03  1493.000000 -3.708536e-01     0.000000     1.000000   \n",
       "75%    6.458915e-01  1984.000000  4.752222e-01     0.000000     1.000000   \n",
       "max    3.397008e+00  5998.000000  8.337763e+00     1.000000     1.000000   \n",
       "\n",
       "               LPG       Petrol        First  Fourth & Above       Second  \\\n",
       "count  5975.000000  5975.000000  5975.000000     5975.000000  5975.000000   \n",
       "mean      0.001674     0.454226     0.820586        0.001339     0.159498   \n",
       "std       0.040879     0.497942     0.383731        0.036570     0.366170   \n",
       "min       0.000000     0.000000     0.000000        0.000000     0.000000   \n",
       "25%       0.000000     0.000000     1.000000        0.000000     0.000000   \n",
       "50%       0.000000     0.000000     1.000000        0.000000     0.000000   \n",
       "75%       0.000000     1.000000     1.000000        0.000000     0.000000   \n",
       "max       1.000000     1.000000     1.000000        1.000000     1.000000   \n",
       "\n",
       "             Third    Automatic       Manual  \n",
       "count  5975.000000  5975.000000  5975.000000  \n",
       "mean      0.018577     0.286025     0.713975  \n",
       "std       0.135038     0.451939     0.451939  \n",
       "min       0.000000     0.000000     0.000000  \n",
       "25%       0.000000     0.000000     0.000000  \n",
       "50%       0.000000     0.000000     1.000000  \n",
       "75%       0.000000     1.000000     1.000000  \n",
       "max       1.000000     1.000000     1.000000  "
      ]
     },
     "execution_count": 26,
     "metadata": {},
     "output_type": "execute_result"
    }
   ],
   "source": [
    "df.describe()"
   ]
  },
  {
   "cell_type": "markdown",
   "id": "9744b5a7",
   "metadata": {},
   "source": [
    "### Model Development \n",
    "Model to be used in car resale value prediction:\n",
    "Ridge Regression"
   ]
  },
  {
   "cell_type": "code",
   "execution_count": 32,
   "id": "785ca976",
   "metadata": {},
   "outputs": [
    {
     "data": {
      "text/plain": [
       "Ridge(alpha=0.1)"
      ]
     },
     "execution_count": 32,
     "metadata": {},
     "output_type": "execute_result"
    }
   ],
   "source": [
    "#This regression model would only work on the numeric values so excluding all the string valued columns from data frame\n",
    "train_data = df.drop(columns=['Price', 'Name', 'Location'], axis=1, inplace =False)\n",
    "\n",
    "model_ridge = models.Ridge(alpha=0.1)\n",
    "#Fit the training data into the model along with the target values i.e prices\n",
    "model_ridge.fit(train_data, df['Price'])"
   ]
  },
  {
   "cell_type": "code",
   "execution_count": 33,
   "id": "7e773680",
   "metadata": {},
   "outputs": [],
   "source": [
    "#Now using the same data used for training again, but for testing the efficiency of the model\n",
    "predictions = pd.Series(model_ridge.predict(train_data))\n",
    "predictions = abs(predictions)  "
   ]
  },
  {
   "cell_type": "code",
   "execution_count": 34,
   "id": "a70cfbc0",
   "metadata": {},
   "outputs": [
    {
     "data": {
      "text/plain": [
       "0.711811555245873"
      ]
     },
     "execution_count": 34,
     "metadata": {},
     "output_type": "execute_result"
    }
   ],
   "source": [
    "metrics.r2_score(df['Price'], predictions)"
   ]
  },
  {
   "cell_type": "markdown",
   "id": "598ba84d",
   "metadata": {},
   "source": [
    "### The r-square score of our the model is more than 0.7 which is a good score \n",
    "Now lets visualize the actual prices and the predicted prices"
   ]
  },
  {
   "cell_type": "code",
   "execution_count": 30,
   "id": "26632cb1",
   "metadata": {},
   "outputs": [],
   "source": [
    "predictions = pd.DataFrame(predictions, columns=['Predicted Prices'])\n",
    "predictions = predictions.join(df['Price'])\n",
    "predictions.rename(columns={\"Price\": \"Actual Prices\"}, inplace=True)"
   ]
  },
  {
   "cell_type": "code",
   "execution_count": 31,
   "id": "e9338370",
   "metadata": {},
   "outputs": [
    {
     "data": {
      "text/plain": [
       "<seaborn.axisgrid.FacetGrid at 0x1f9c5e7c160>"
      ]
     },
     "execution_count": 31,
     "metadata": {},
     "output_type": "execute_result"
    },
    {
     "data": {
      "image/png": "[encoded data removed]",
      "text/plain": [
       "<Figure size 475.875x360 with 1 Axes>"
      ]
     },
     "metadata": {
      "needs_background": "light"
     },
     "output_type": "display_data"
    }
   ],
   "source": [
    "sb.displot(data=predictions, label='Prices', kind=\"kde\", bw_adjust=0.2, multiple=\"stack\", fill=True, rug=False)"
   ]
  }
 ],
 "metadata": {
  "kernelspec": {
   "display_name": "Python 3",
   "language": "python",
   "name": "python3"
  },
  "language_info": {
   "codemirror_mode": {
    "name": "ipython",
    "version": 3
   },
   "file_extension": ".py",
   "mimetype": "text/x-python",
   "name": "python",
   "nbconvert_exporter": "python",
   "pygments_lexer": "ipython3",
   "version": "3.9.4"
  }
 },
 "nbformat": 4,
 "nbformat_minor": 5
}
